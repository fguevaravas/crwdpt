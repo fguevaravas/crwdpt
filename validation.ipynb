{
 "cells": [
  {
   "cell_type": "markdown",
   "metadata": {},
   "source": [
    "# Numerical verification of some discrete boundary potential formulas\n",
    "This notebook is supplementary material for \n",
    "\n",
    "\"_Cloaking for random walks and a discrete potential theory_\" by\n",
    "Fernando Guevara Vasquez and Trent DeGiovanni\n",
    "\n",
    "The idea here is to generate a random graph subdivided into boundary nodes $B$, exterior nodes $E$ and a region of interest $\\Omega$ that is connected to the rest of the nodes via $\\partial\\Omega$. Then we test the different identities on appropriate solutions to the Dirichlet problem on a graph. All the tests here work by computing the difference between the left and right hand side of a particular equality and checking that we numerically a vector close to zero using the `@test` macro. If all the tests in a cell pass, then `Test Passed` is displayed in the cell output.\n",
    "\n",
    "Note: in the paper we use $I$ instead of $E$, the different nomenclature is to avoid clashing with the identity `LinearAlgebra.I`.\n"
   ]
  },
  {
   "cell_type": "markdown",
   "metadata": {},
   "source": [
    "## Graph construction"
   ]
  },
  {
   "cell_type": "code",
   "execution_count": 12,
   "metadata": {},
   "outputs": [
    {
     "name": "stdout",
     "output_type": "stream",
     "text": [
      "The sets are:\n",
      "Ω  = 1:10\n",
      "∂Ω = 11:15\n",
      "E  = 16:25\n",
      "B  = 26:30\n",
      "V  = 1:30\n",
      "Vᵒ = [16, 17, 18, 19, 20, 21, 22, 23, 24, 25, 11, 12, 13, 14, 15, 1, 2, 3, 4, 5, 6, 7, 8, 9, 10]\n"
     ]
    }
   ],
   "source": [
    "using LinearAlgebra, SparseArrays, Test\n",
    "\n",
    "nB = 5; nE = 10; n∂Ω = 5; nΩ = 10 # select number of nodes\n",
    "\n",
    "nV  = nB + nE + n∂Ω + nΩ\n",
    "# define sets of nodes as indices\n",
    "Ω = 1:nΩ\n",
    "∂Ω = nΩ .+ (1:n∂Ω)\n",
    "E = (nΩ + n∂Ω) .+ (1:nE)\n",
    "B = (nΩ + n∂Ω + nE) .+ (1:nB)\n",
    "V = 1:nV # all vertices\n",
    "Vᵒ = E ∪ ∂Ω ∪ Ω # all the vertices minus the ones boundary conditions are imposed\n",
    "println(\"\"\"The sets are:\n",
    "    Ω  = $Ω\n",
    "    ∂Ω = $∂Ω\n",
    "    E  = $E\n",
    "    B  = $B\n",
    "    V  = $V\n",
    "    Vᵒ = $Vᵒ\"\"\")\n",
    "\n",
    "# generate incidence matrix with conductivities that are uniform random (0,1)\n",
    "# using Erdös-Renyi model\n",
    "p = 0.5 # probability of getting a link between two nodes\n",
    "A = spzeros(nV,nV)\n",
    "for i=1:nV, j=1:i-1\n",
    "    A[i,j] =  rand()*(rand()>p)\n",
    "end\n",
    "A = (A + A')/2\n",
    "\n",
    "# get rid of connections between E and Ω\n",
    "A[E,Ω] .= 0; A[Ω,E] .= 0\n",
    "\n",
    "# get rid of connections between B and anything other than E\n",
    "A[B,∂Ω ∪ Ω] .= 0; A[∂Ω ∪ Ω,B] .= 0\n",
    "\n",
    "# check ∂Ω is connected to both Ω and E\n",
    "@assert sum(A[∂Ω,Ω])>0 && sum(A[∂Ω,E])>0 # if error is raised, simply rerun cell to draw another graph"
   ]
  },
  {
   "cell_type": "markdown",
   "metadata": {},
   "source": [
    "## Laplacian and Green functions\n",
    "Note the identities that we find are not affected by the sign of the Laplacian (i.e. whether we choose it to be a positive semidefinite or negative semidefinite matrix)"
   ]
  },
  {
   "cell_type": "code",
   "execution_count": 13,
   "metadata": {},
   "outputs": [],
   "source": [
    "# ensures a matrix has zero row sum by adjusting diagonal elements\n",
    "zerosum(A) = A - spdiagm(A*ones(size(A,1))) \n",
    "L = zerosum(A)  # negative semi-definite Laplacian\n",
    "#L = -zerosum(A) # positive semi-definite graph Laplacian\n",
    "\n",
    "# Green functions with 0 Dirichlet condition on B\n",
    "G = zeros(nV,nV)\n",
    "G[Vᵒ,Vᵒ] = inv(Matrix(L[Vᵒ,Vᵒ]));"
   ]
  },
  {
   "cell_type": "markdown",
   "metadata": {},
   "source": [
    "## The exterior and interior Laplacians\n",
    "Here the exterior $L_\\alpha^+$ and interior $L_\\alpha^-$ are defined such that they are discrete Laplacians and $L=L_\\alpha^+ + L_\\alpha^-$."
   ]
  },
  {
   "cell_type": "code",
   "execution_count": 14,
   "metadata": {},
   "outputs": [
    {
     "data": {
      "text/plain": [
       "\u001b[32m\u001b[1mTest Passed\u001b[22m\u001b[39m"
      ]
     },
     "execution_count": 14,
     "metadata": {},
     "output_type": "execute_result"
    }
   ],
   "source": [
    "α = 0.3 # blending factor (anything in [0,1])\n",
    "\n",
    "# exterior Laplacian (zero inside Ω)\n",
    "Le = copy(L);\n",
    "Le[Ω,:] .= 0; Le[:,Ω] .= 0\n",
    "Le[∂Ω,∂Ω] .*= 1-α\n",
    "Le = zerosum(Le);\n",
    "\n",
    "# interior Laplacian (zero outside Ω, i.e. B∪E)\n",
    "Li = copy(L);\n",
    "Li[B∪E,:] .= 0; Li[:,B∪E] .=0 ;\n",
    "Li[∂Ω,∂Ω] .*= α\n",
    "Li = zerosum(Li);\n",
    "@test norm(Li+Le-L) ≈ 0 atol=1e-10"
   ]
  },
  {
   "cell_type": "markdown",
   "metadata": {},
   "source": [
    "## Trace operators and single, double layer potential operators\n",
    "Here we define:\n",
    "* Dirichlet trace operator $\\gamma_0$ and the Neumann trace operators $\\gamma_1^\\pm$\n",
    "* Single $\\mathcal{S}$ and double layer $\\mathcal{D}^\\pm$ potential operators\n",
    "* Indicator function $\\mathbb{1}$ of a set"
   ]
  },
  {
   "cell_type": "code",
   "execution_count": 15,
   "metadata": {},
   "outputs": [
    {
     "data": {
      "text/plain": [
       "𝟙 (generic function with 1 method)"
      ]
     },
     "execution_count": 15,
     "metadata": {},
     "output_type": "execute_result"
    }
   ],
   "source": [
    "R = I(nV)[∂Ω,:] # restriction to ∂Ω\n",
    "γ0 = R          # Dirichlet trace operator\n",
    "γ1e = - R*Le    # exterior Neumann trace operator\n",
    "γ1i =   R*Li    # interior Neumann trace operator\n",
    "\n",
    "S  = G*γ0'      # single layer potential operator\n",
    "De = G*γ1e'     # exterior double layer potential operator\n",
    "Di = G*γ1i'     # interior double layer potential operator\n",
    "\n",
    "com(C,D) = C*D - D*C        # matrix commutator\n",
    "\n",
    "𝟙(X) = [ i ∈ X for i ∈ V];  # indicator function of the set X"
   ]
  },
  {
   "cell_type": "markdown",
   "metadata": {},
   "source": [
    "## Interior reproduction formulas"
   ]
  },
  {
   "cell_type": "code",
   "execution_count": 16,
   "metadata": {},
   "outputs": [
    {
     "data": {
      "text/plain": [
       "\u001b[32m\u001b[1mTest Passed\u001b[22m\u001b[39m"
      ]
     },
     "execution_count": 16,
     "metadata": {},
     "output_type": "execute_result"
    }
   ],
   "source": [
    "# generate a u that solves the Dirichlet problem inside ∂Ω ∪ Ω\n",
    "u = zeros(nV)\n",
    "u[B] = randn(nB)\n",
    "u[Vᵒ] = -L[Vᵒ,Vᵒ]\\(L[Vᵒ,B]*u[B])\n",
    "\n",
    "# check interior reproduction formulas:\n",
    "@test norm(S*γ1e*u - De*γ0*u - u.*𝟙(∂Ω ∪ Ω)) ≈ 0 atol=1e-10\n",
    "@test norm(S*γ1i*u - Di*γ0*u - u.*𝟙(Ω))      ≈ 0 atol=1e-10\n",
    "\n",
    "# check formulas with commutators:\n",
    "@test norm(( G*com(Le,R'*R)*u - u)[∂Ω ∪ Ω]) ≈ 0 atol=1e-10\n",
    "@test norm((-G*com(Li,R'*R)*u - u)[Ω])      ≈ 0 atol=1e-10"
   ]
  },
  {
   "cell_type": "markdown",
   "metadata": {},
   "source": [
    "## Continuity of flux for a harmonic function"
   ]
  },
  {
   "cell_type": "code",
   "execution_count": 17,
   "metadata": {},
   "outputs": [
    {
     "data": {
      "text/plain": [
       "\u001b[32m\u001b[1mTest Passed\u001b[22m\u001b[39m"
      ]
     },
     "execution_count": 17,
     "metadata": {},
     "output_type": "execute_result"
    }
   ],
   "source": [
    "@test norm((γ1e - γ1i)*u) ≈ 0 atol=1e-10"
   ]
  },
  {
   "cell_type": "markdown",
   "metadata": {},
   "source": [
    "## Exterior reproduction formulas"
   ]
  },
  {
   "cell_type": "code",
   "execution_count": 18,
   "metadata": {},
   "outputs": [
    {
     "data": {
      "text/plain": [
       "\u001b[32m\u001b[1mTest Passed\u001b[22m\u001b[39m"
      ]
     },
     "execution_count": 18,
     "metadata": {},
     "output_type": "execute_result"
    }
   ],
   "source": [
    "# generate a v that solves teh Dirichlet problem outside  ∂Ω ∪ Ω\n",
    "f = zeros(nV); f[Ω] = randn(nΩ); # forcing term\n",
    "v = zeros(nV);\n",
    "v[Vᵒ]=-L[Vᵒ,Vᵒ]\\f[Vᵒ];\n",
    "\n",
    "# check exterior reproduction formulas:\n",
    "@test norm(-S*γ1e*v + De*γ0*v - v.*𝟙(E))      ≈ 0 atol=1e-10\n",
    "@test norm(-S*γ1i*v + Di*γ0*v - v.*𝟙(E∪∂Ω))   ≈ 0 atol=1e-10\n",
    "\n",
    "# check formulas with commutators:\n",
    "@test norm((-G*com(Le,R'*R)*v - v)[E])        ≈ 0 atol=1e-10\n",
    "@test norm(( G*com(Li,R'*R)*v - v)[E∪∂Ω])     ≈ 0 atol=1e-10"
   ]
  },
  {
   "cell_type": "markdown",
   "metadata": {},
   "source": [
    "## Jump relations"
   ]
  },
  {
   "cell_type": "code",
   "execution_count": 19,
   "metadata": {},
   "outputs": [
    {
     "data": {
      "text/plain": [
       "\u001b[32m\u001b[1mTest Passed\u001b[22m\u001b[39m"
      ]
     },
     "execution_count": 19,
     "metadata": {},
     "output_type": "execute_result"
    }
   ],
   "source": [
    "@test norm((γ1e-γ1i)*S  + I) ≈ 0 atol=1e-10  # discontinuity of Neumann trace of single layer potential\n",
    "@test norm(γ0*(De - Di) + I) ≈ 0 atol=1e-10  # discontinuity of Dirichlet trace of double layer potential\n",
    "@test norm(γ1e*Di - γ1i*De)  ≈ 0 atol=1e-10  # continuity of Neumann trace of double layer potential"
   ]
  },
  {
   "cell_type": "markdown",
   "metadata": {},
   "source": [
    "## Boundary Layer Operators"
   ]
  },
  {
   "cell_type": "code",
   "execution_count": 20,
   "metadata": {},
   "outputs": [],
   "source": [
    "bS = γ0*S          # Single Layer Operator\n",
    "bD = γ0*(De+Di)/2   # Double Layer Operator\n",
    "bDa = (γ1e+γ1i)*S/2 # Adjoint Double Layer Operator\n",
    "bH = γ1e*Di;        # Hypersingular operator"
   ]
  },
  {
   "cell_type": "markdown",
   "metadata": {},
   "source": [
    "## Jump relations for boundary layer operators"
   ]
  },
  {
   "cell_type": "code",
   "execution_count": 21,
   "metadata": {},
   "outputs": [
    {
     "data": {
      "text/plain": [
       "\u001b[32m\u001b[1mTest Passed\u001b[22m\u001b[39m"
      ]
     },
     "execution_count": 21,
     "metadata": {},
     "output_type": "execute_result"
    }
   ],
   "source": [
    "# discontinuity of Neumann trace of single layer potential\n",
    "@test norm(γ1e*S - ( -I/2 + bD' )) ≈ 0 atol=1e-10\n",
    "@test norm(γ1i*S - (  I/2 + bD' )) ≈ 0 atol=1e-10\n",
    "\n",
    "# discontinuity of Dirichlet trace of double layer potential\n",
    "@test norm(γ0*De - ( -I/2 + bD  )) ≈ 0 atol=1e-10\n",
    "@test norm(γ0*Di - (  I/2 + bD  )) ≈ 0 atol=1e-10"
   ]
  },
  {
   "cell_type": "markdown",
   "metadata": {},
   "source": [
    "## Calderón projectors"
   ]
  },
  {
   "cell_type": "code",
   "execution_count": 22,
   "metadata": {},
   "outputs": [
    {
     "data": {
      "text/plain": [
       "\u001b[32m\u001b[1mTest Passed\u001b[22m\u001b[39m"
      ]
     },
     "execution_count": 22,
     "metadata": {},
     "output_type": "execute_result"
    }
   ],
   "source": [
    "C = [-bD     bS\n",
    "     -bH     bD' ]\n",
    "Pi = I/2 + C # interior Calderón projector\n",
    "Pe = I/2 - C # exterior Calderón projector\n",
    "@test norm(Pi*Pi - Pi) ≈ 0 atol=1e-10\n",
    "@test norm(Pe*Pe - Pe) ≈ 0 atol=1e-10"
   ]
  },
  {
   "cell_type": "markdown",
   "metadata": {},
   "source": [
    "## DtN map tests\n",
    "Checks DtN map formula $\\Lambda = (\\frac{I}{2} + D') S^{-1}$"
   ]
  },
  {
   "cell_type": "code",
   "execution_count": 23,
   "metadata": {},
   "outputs": [
    {
     "data": {
      "text/plain": [
       "\u001b[32m\u001b[1mTest Passed\u001b[22m\u001b[39m"
      ]
     },
     "execution_count": 23,
     "metadata": {},
     "output_type": "execute_result"
    }
   ],
   "source": [
    "DtN1 = Li[∂Ω,∂Ω] - Li[∂Ω,Ω]*(Li[Ω,Ω]\\Array(Li[Ω,∂Ω]))\n",
    "DtN2 = (I/2+bD')*inv(bS) \n",
    "@test norm(DtN1 - DtN2) ≈ 0 atol=1e-10\n",
    "\n",
    "NtD1 = pinv(DtN1)\n",
    "NtD2 = (I-ones(nB,nB)/nB)*bS*pinv(I/2+bD')\n",
    "@test norm(NtD1 - NtD2) ≈ 0 atol=1e-10"
   ]
  },
  {
   "cell_type": "markdown",
   "metadata": {},
   "source": [
    "## Check invertibility of operators\n",
    "These are based on the uniqueness of certain problems"
   ]
  },
  {
   "cell_type": "code",
   "execution_count": 24,
   "metadata": {},
   "outputs": [
    {
     "data": {
      "text/plain": [
       "\u001b[32m\u001b[1mTest Passed\u001b[22m\u001b[39m"
      ]
     },
     "execution_count": 24,
     "metadata": {},
     "output_type": "execute_result"
    }
   ],
   "source": [
    "@test rank(bS) == nB # BSO should be invertible (uniqueness Dir prob)\n",
    "@test rank(-I/2 + bD) == nB # uniqueness exterior Neumann prob\n",
    "@test rank(I/2 + bD) == nB-1 # interior Neumann prob up to constants"
   ]
  },
  {
   "cell_type": "code",
   "execution_count": null,
   "metadata": {},
   "outputs": [],
   "source": []
  }
 ],
 "metadata": {
  "kernelspec": {
   "display_name": "Julia 1.11.2",
   "language": "julia",
   "name": "julia-1.11"
  },
  "language_info": {
   "file_extension": ".jl",
   "mimetype": "application/julia",
   "name": "julia",
   "version": "1.11.2"
  }
 },
 "nbformat": 4,
 "nbformat_minor": 4
}
